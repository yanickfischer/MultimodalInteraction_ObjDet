{
 "cells": [
  {
   "cell_type": "markdown",
   "id": "8bd937c3",
   "metadata": {},
   "source": [
    "## Exercise 3: Text- Image – Text- Audio\n",
    "\n",
    "Consider the picture “accident_scene,jpg”. You are building a paramedical robot which needs to\n",
    "detect and assess if and who needs immediate care (triage). Extract all the information of the\n",
    "accident in a structured form and pass it further to a text-audio model, which can, given this input,\n",
    "can decide who should receive help and inform you verbally.\n",
    "You might have to install some libraries, depending on where you run it (this is not a mistake but part\n",
    "of the exercise). Ask for help, if needed."
   ]
  },
  {
   "cell_type": "code",
   "execution_count": 19,
   "id": "e6e2d023",
   "metadata": {},
   "outputs": [],
   "source": [
    "%matplotlib inline\n",
    "import os\n",
    "from dotenv import load_dotenv  \n",
    "from PIL import Image\n",
    "import google.generativeai as genai\n",
    "\n",
    "\n",
    "load_dotenv()\n",
    "#genai.configure(api_key=os.environ.get(\"GEMINI_API_KEY\"))\n",
    "genai.configure(api_key=os.getenv(\"GEMINI_API_KEY\"))"
   ]
  },
  {
   "cell_type": "code",
   "execution_count": 20,
   "id": "5c1b2cec",
   "metadata": {},
   "outputs": [
    {
     "name": "stdout",
     "output_type": "stream",
     "text": [
      "Artificial intelligence (AI) is a broad field encompassing many techniques, but at its core, it's about creating systems that can perform tasks that typically require human intelligence.  These tasks include things like learning, problem-solving, decision-making, and understanding language.  There's no single \"how it works\" answer, as different AI approaches use different methods. However, here's a breakdown of some key concepts:\n",
      "\n",
      "**1. Machine Learning (ML):** This is the most prevalent approach to AI today.  Instead of explicitly programming rules, ML algorithms learn from data. They identify patterns and relationships within the data to make predictions or decisions.  This learning happens through various techniques:\n",
      "\n",
      "* **Supervised Learning:** The algorithm is trained on a labeled dataset, meaning each data point is tagged with the correct answer.  For example, showing an algorithm many pictures of cats and dogs, labeled accordingly, allows it to learn to distinguish between them.\n",
      "* **Unsupervised Learning:** The algorithm is trained on an unlabeled dataset and tries to find structure or patterns on its own.  This is useful for tasks like clustering similar data points or dimensionality reduction.\n",
      "* **Reinforcement Learning:** The algorithm learns through trial and error, receiving rewards for correct actions and penalties for incorrect ones.  This is often used in robotics and game playing.\n",
      "\n",
      "**2. Deep Learning (DL):** A subfield of ML that uses artificial neural networks with multiple layers (hence \"deep\"). These networks are inspired by the structure and function of the human brain.  They can automatically learn complex features from raw data, making them particularly powerful for tasks like image recognition, natural language processing, and speech recognition.\n",
      "\n",
      "**3. Natural Language Processing (NLP):** This focuses on enabling computers to understand, interpret, and generate human language.  Techniques used in NLP include:\n",
      "\n",
      "* **Tokenization:** Breaking down text into individual words or phrases.\n",
      "* **Part-of-speech tagging:** Identifying the grammatical role of each word.\n",
      "* **Sentiment analysis:** Determining the emotional tone of a text.\n",
      "* **Machine translation:** Converting text from one language to another.\n",
      "\n",
      "**4. Computer Vision:** This deals with enabling computers to \"see\" and interpret images and videos.  Techniques include:\n",
      "\n",
      "* **Image classification:** Identifying objects or scenes in an image.\n",
      "* **Object detection:** Locating and classifying objects within an image.\n",
      "* **Image segmentation:** Partitioning an image into meaningful regions.\n",
      "\n",
      "**In a simplified nutshell:**  Many AI systems work by:\n",
      "\n",
      "1. **Collecting data:** Gathering large amounts of relevant data.\n",
      "2. **Preparing data:** Cleaning, transforming, and formatting the data for the chosen algorithm.\n",
      "3. **Training a model:** Feeding the data to an algorithm to learn patterns and relationships.\n",
      "4. **Evaluating the model:** Testing the model's performance on new, unseen data.\n",
      "5. **Deploying the model:** Using the trained model to make predictions or decisions in a real-world application.\n",
      "\n",
      "It's important to note that AI is constantly evolving. New techniques and approaches are being developed all the time, pushing the boundaries of what's possible.  The \"how it works\" explanation above provides a general overview, and the specifics vary greatly depending on the specific AI system and its application.\n",
      "\n"
     ]
    }
   ],
   "source": [
    "model = genai.GenerativeModel(\"gemini-1.5-flash\")\n",
    "response = model.generate_content(\"Explain how AI works\")\n",
    "print(response.text)\n"
   ]
  },
  {
   "cell_type": "code",
   "execution_count": 22,
   "id": "3be9b142",
   "metadata": {},
   "outputs": [
    {
     "name": "stdout",
     "output_type": "stream",
     "text": [
      "Yes, the following people appear to be hurt:\n",
      "\n",
      "1. **Woman lying on the ground:**  This woman (in a light brown/beige shirt and jeans) appears to be unconscious or seriously injured, based on her closed eyes and the bloodstain on her shirt. She is located roughly in the center bottom of the image. This person should receive medical attention *first*.\n",
      "\n",
      "2. **Man crouching:** This man (in a light blue shirt and khaki pants) is holding his chest, indicating potential chest pain or difficulty breathing. He appears distressed. He is located towards the bottom left of the image. He should receive medical attention *second*.\n",
      "\n",
      "3. **Woman crouching:** This woman (wearing a yellow sweater and jeans) is holding her head. This could indicate a head injury or emotional distress from the accident.  She is located near the center left of the image. While she may need medical attention, it appears less urgent than the first two individuals. She should receive medical attention *third*.\n",
      "\n"
     ]
    }
   ],
   "source": [
    "img = \"images/accident_scene.png\"\n",
    "im = Image.open(img)\n",
    "\n",
    "genai.configure(api_key=os.environ.get(\"GEMINI_API_KEY\"))\n",
    "model = genai.GenerativeModel(\"gemini-1.5-pro\")\n",
    "\n",
    "response = model.generate_content([\n",
    "    im,\n",
    "    (\n",
    "        \"Detect if there is people in the picture and if somebody looks like they are hurt. In order to organize people that are hurt medical help you have to 1. find all the people in the picture 2. detect if somebody needs medical attention 3. decide who should get help first. Give an output structered like this example: yes person (describe the person) in coordinates x/y (give coordinates in image) is hurt and should first receive medical attention, then person (describe person) should receive medical attention next... and so on .\\n \"\n",
    "    ),\n",
    "])\n",
    "response.resolve()\n",
    "print(response.text)"
   ]
  },
  {
   "cell_type": "code",
   "execution_count": null,
   "id": "af381ba2",
   "metadata": {},
   "outputs": [],
   "source": []
  }
 ],
 "metadata": {
  "kernelspec": {
   "display_name": "Python 3",
   "language": "python",
   "name": "python3"
  },
  "language_info": {
   "codemirror_mode": {
    "name": "ipython",
    "version": 3
   },
   "file_extension": ".py",
   "mimetype": "text/x-python",
   "name": "python",
   "nbconvert_exporter": "python",
   "pygments_lexer": "ipython3",
   "version": "3.10.17"
  }
 },
 "nbformat": 4,
 "nbformat_minor": 5
}
