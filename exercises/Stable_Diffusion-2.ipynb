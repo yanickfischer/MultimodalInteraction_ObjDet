{
 "cells": [
  {
   "cell_type": "markdown",
   "metadata": {
    "id": "gd-vX3cavOCt"
   },
   "source": [
    "# **Stable Diffusion** 🎨 \n",
    "*...using `🧨diffusers`*\n",
    "\n",
    "Stable Diffusion is a text-to-image latent diffusion model created by the researchers and engineers from [CompVis](https://github.com/CompVis), [Stability AI](https://stability.ai/) and [LAION](https://laion.ai/). It's trained on 512x512 images from a subset of the [LAION-5B](https://laion.ai/blog/laion-5b/) database. This model uses a frozen CLIP ViT-L/14 text encoder to condition the model on text prompts. With its 860M UNet and 123M text encoder, the model is relatively lightweight and can run on many consumer GPUs.\n",
    "See the [model card](https://huggingface.co/CompVis/stable-diffusion) for more information.\n",
    "\n",
    "This Colab notebook shows how to use Stable Diffusion with the 🤗 Hugging Face [🧨 Diffusers library](https://github.com/huggingface/diffusers). \n",
    "\n",
    "Let's get started!"
   ]
  },
  {
   "cell_type": "markdown",
   "metadata": {
    "id": "-xMJ6LaET6dT"
   },
   "source": [
    "## 1. How to use `StableDiffusionPipeline`\n",
    "\n",
    "Before diving into the theoretical aspects of how Stable Diffusion functions, \n",
    "let's try it out a bit 🤗.\n",
    "\n",
    "In this section, we show how you can run text to image inference in just a few lines of code!"
   ]
  },
  {
   "cell_type": "markdown",
   "metadata": {
    "id": "QYOlvQ1nQL7c"
   },
   "source": [
    "### Setup\n",
    "\n",
    "First, please make sure you are using a GPU runtime to run this notebook, so inference is much faster. If the following command fails, use the `Runtime` menu above and select `Change runtime type`."
   ]
  },
  {
   "cell_type": "code",
   "execution_count": 1,
   "metadata": {
    "id": "zHkHsdtnry57"
   },
   "outputs": [],
   "source": [
    "!nvidia-smi"
   ]
  },
  {
   "cell_type": "markdown",
   "metadata": {
    "id": "paJt_cx5QgVz"
   },
   "source": [
    "Next, you should install `diffusers` as well `scipy`, `ftfy` and `transformers`. `accelerate` is used to achieve much faster loading."
   ]
  },
  {
   "cell_type": "code",
   "execution_count": 2,
   "metadata": {
    "id": "aIrgth7sqFML"
   },
   "outputs": [],
   "source": [
    "!pip install diffusers --upgrade\n",
    "\n",
    "\n",
    "!pip install transformers --upgrade\n",
    "!pip install accelerate --upgrade\n",
    "\n",
    "!pip install  scipy ftfy"
   ]
  },
  {
   "cell_type": "markdown",
   "metadata": {
    "id": "3NnPOMAqAABv"
   },
   "source": [
    "### Stable Diffusion Pipeline\n",
    "\n",
    "`StableDiffusionPipeline` is an end-to-end inference pipeline that you can use to generate images from text with just a few lines of code.\n",
    "\n",
    "First, we load the pre-trained weights of all components of the model. In this notebook we use Stable Diffusion version 1.4 ([CompVis/stable-diffusion-v1-4](https://huggingface.co/CompVis/stable-diffusion-v1-4)), but there are other variants that you may want to try:\n",
    "* [runwayml/stable-diffusion-v1-5](https://huggingface.co/runwayml/stable-diffusion-v1-5)\n",
    "* [stabilityai/stable-diffusion-2-1-base](https://huggingface.co/stabilityai/stable-diffusion-2-1-base)\n",
    "* [stabilityai/stable-diffusion-2-1](https://huggingface.co/stabilityai/stable-diffusion-2-1). This version can produce images with a resolution of 768x768, while the others work at 512x512.\n",
    "\n",
    "In addition to the model id [CompVis/stable-diffusion-v1-4](https://huggingface.co/CompVis/stable-diffusion-v1-4), we're also passing a specific `revision` and `torch_dtype` to the `from_pretrained` method.\n",
    "\n",
    "We want to ensure that every free Google Colab can run Stable Diffusion, hence we're loading the weights from the half-precision branch [`fp16`](https://huggingface.co/CompVis/stable-diffusion-v1-4/tree/fp16) and also tell `diffusers` to expect the weights in float16 precision by passing `torch_dtype=torch.float16`.\n",
    "\n",
    "If you want to ensure the highest possible precision, please make sure to remove `torch_dtype=torch.float16` at the cost of a higher memory usage."
   ]
  },
  {
   "cell_type": "code",
   "execution_count": 4,
   "metadata": {
    "id": "xSKWBKFPArKS"
   },
   "outputs": [],
   "source": [
    "import torch\n",
    "from diffusers import StableDiffusionPipeline\n",
    "\n",
    "pipe = StableDiffusionPipeline.from_pretrained(\"stabilityai/stable-diffusion-2\", torch_dtype=torch.float16)  "
   ]
  },
  {
   "cell_type": "markdown",
   "metadata": {
    "id": "8MgNzTxwbASv"
   },
   "source": [
    "Next, let's move the pipeline to GPU to have faster inference."
   ]
  },
  {
   "cell_type": "code",
   "execution_count": 5,
   "metadata": {
    "id": "LA9myHTxbDhm"
   },
   "outputs": [],
   "source": [
    "pipe = pipe.to(\"cuda\")"
   ]
  },
  {
   "cell_type": "markdown",
   "metadata": {
    "id": "tSTsT6McuzWW"
   },
   "source": [
    "And we are ready to generate images:"
   ]
  },
  {
   "cell_type": "code",
   "execution_count": 6,
   "metadata": {
    "id": "yEErJFjlrSWS"
   },
   "outputs": [],
   "source": [
    "prompt = #### ENTER YOUR PROMPT HERE \n",
    "image = pipe(prompt).images[0]  # image here is in [PIL format](https://pillow.readthedocs.io/en/stable/)\n",
    "\n",
    "# Now to display an image you can either save it such as:\n",
    "image.save(f\"my_first_image.png\")\n",
    "\n",
    "# or if you're in a google colab you can directly display it with \n",
    "image"
   ]
  },
  {
   "cell_type": "markdown",
   "metadata": {
    "id": "NfZCwCecVJI3"
   },
   "source": [
    "Running the above cell multiple times will give you a different image every time. If you want deterministic output you can pass a random seed to the pipeline. Every time you use the same seed you'll have the same image result."
   ]
  },
  {
   "cell_type": "code",
   "execution_count": 7,
   "metadata": {
    "id": "WaAW4sSdV7vZ"
   },
   "outputs": [],
   "source": [
    "import torch\n",
    "\n",
    "generator = torch.Generator(\"cuda\").manual_seed(1024)\n",
    "\n",
    "image = pipe(prompt, generator=generator).images[0]\n",
    "\n",
    "image"
   ]
  },
  {
   "cell_type": "markdown",
   "metadata": {
    "id": "_RrbYQVQXK6I"
   },
   "source": [
    "You can change the number of inference steps using the `num_inference_steps` argument. In general, results are better the more steps you use. Stable Diffusion, being one of the latest models, works great with a relatively small number of steps, so we recommend to use the default of `50`. If you want faster results you can use a smaller number.\n",
    "\n",
    "The following cell uses the same seed as before, but with fewer steps. Note how some details, such as the horse's head or the helmet, are less defin realistic and less defined than in the previous image:"
   ]
  },
  {
   "cell_type": "code",
   "execution_count": 8,
   "metadata": {
    "id": "BKiK67iTXQkt"
   },
   "outputs": [],
   "source": [
    "import torch\n",
    "\n",
    "generator = torch.Generator(\"cuda\").manual_seed(1024)\n",
    "\n",
    "image = pipe(prompt, num_inference_steps=15, generator=generator).images[0]\n",
    "\n",
    "image"
   ]
  },
  {
   "cell_type": "markdown",
   "metadata": {
    "id": "Y8wxFjba5zRc"
   },
   "source": [
    "The other parameter in the pipeline call is `guidance_scale`. It is a way to increase the adherence to the conditional signal which in this case is text as well as overall sample quality. In simple terms classifier free guidance forces the generation to better match with the prompt. Numbers like `7` or `8.5` give good results, if you use a very large number the images might look good, but will be less diverse. \n",
    "\n"
   ]
  },
  {
   "cell_type": "markdown",
   "metadata": {
    "id": "bUbR3IszB1CD"
   },
   "source": [
    "To generate multiple images for the same prompt, we simply use a list with the same prompt repeated several times. We'll send the list to the pipeline instead of the string we used before."
   ]
  },
  {
   "cell_type": "markdown",
   "metadata": {
    "id": "6ZcgsflpBoEM"
   },
   "source": [
    "\n",
    "\n",
    "Let's first write a helper function to display a grid of images. Just run the following cell to create the `image_grid` function, or disclose the code if you are interested in how it's done."
   ]
  },
  {
   "cell_type": "code",
   "execution_count": 9,
   "metadata": {
    "id": "REF_yuHprSa1"
   },
   "outputs": [],
   "source": [
    "from PIL import Image\n",
    "\n",
    "def image_grid(imgs, rows, cols):\n",
    "    assert len(imgs) == rows*cols\n",
    "\n",
    "    w, h = imgs[0].size\n",
    "    grid = Image.new('RGB', size=(cols*w, rows*h))\n",
    "    grid_w, grid_h = grid.size\n",
    "    \n",
    "    for i, img in enumerate(imgs):\n",
    "        grid.paste(img, box=(i%cols*w, i//cols*h))\n",
    "    return grid"
   ]
  },
  {
   "cell_type": "markdown",
   "metadata": {
    "id": "AcHccTDWbQRU"
   },
   "source": [
    "Now, we can generate a grid image once having run the pipeline with a list of 3 prompts."
   ]
  },
  {
   "cell_type": "code",
   "execution_count": 10,
   "metadata": {
    "id": "-YAFLvWWrSdM"
   },
   "outputs": [],
   "source": [
    "num_images = 3\n",
    "prompt = [ #### ENTER YOUR PROMPT HERE \n",
    "    \n",
    "] * num_images\n",
    "\n",
    "images = pipe(prompt).images\n",
    "\n",
    "grid = image_grid(images, rows=1, cols=3)\n",
    "grid"
   ]
  },
  {
   "cell_type": "markdown",
   "metadata": {
    "id": "yW14FA-tDQ5n"
   },
   "source": [
    "## 2. What is Stable Diffusion\n",
    "\n",
    "Now, let's go into the theoretical part of Stable Diffusion 👩‍🎓.\n",
    "\n",
    "Stable Diffusion is based on a particular type of diffusion model called **Latent Diffusion**, proposed in [High-Resolution Image Synthesis with Latent Diffusion Models](https://arxiv.org/abs/2112.10752).\n",
    "\n"
   ]
  },
  {
   "cell_type": "markdown",
   "metadata": {
    "id": "zHj_sllMaKTD"
   },
   "source": [
    "General diffusion models are machine learning systems that are trained to *denoise* random gaussian noise step by step, to get to a sample of interest, such as an *image*. For a more detailed overview of how they work, check [this colab](https://colab.research.google.com/github/huggingface/notebooks/blob/main/diffusers/diffusers_intro.ipynb).\n",
    "\n",
    "Diffusion models have shown to achieve state-of-the-art results for generating image data. But one downside of diffusion models is that the reverse denoising process is slow. In addition, these models consume a lot of memory because they operate in pixel space, which becomes unreasonably expensive when generating high-resolution images. Therefore, it is challenging to train these models and also use them for inference."
   ]
  },
  {
   "cell_type": "markdown",
   "metadata": {
    "id": "BBsdAj9pDPOv"
   },
   "source": [
    "\n",
    "\n",
    "<br>\n",
    "\n",
    "Latent diffusion can reduce the memory and compute complexity by applying the diffusion process over a lower dimensional _latent_ space, instead of using the actual pixel space. This is the key difference between standard diffusion and latent diffusion models: **in latent diffusion the model is trained to generate latent (compressed) representations of the images.** \n",
    "\n",
    "There are three main components in latent diffusion.\n",
    "\n",
    "1. An autoencoder (VAE).\n",
    "2. A [U-Net](https://colab.research.google.com/github/huggingface/notebooks/blob/main/diffusers/diffusers_intro.ipynb#scrollTo=wW8o1Wp0zRkq).\n",
    "3. A text-encoder, *e.g.* [CLIP's Text Encoder](https://huggingface.co/docs/transformers/model_doc/clip#transformers.CLIPTextModel)."
   ]
  },
  {
   "cell_type": "markdown",
   "metadata": {
    "id": "j4leRMZzjTsA"
   },
   "source": [
    "**1. The autoencoder (VAE)**\n",
    "\n",
    "The VAE model has two parts, an encoder and a decoder. The encoder is used to convert the image into a low dimensional latent representation, which will serve as the input to the *U-Net* model.\n",
    "The decoder, conversely, transforms the latent representation back into an image.\n",
    "\n",
    " During latent diffusion _training_, the encoder is used to get the latent representations (_latents_) of the images for the forward diffusion process, which applies more and more noise at each step. During _inference_, the denoised latents generated by the reverse diffusion process are converted back into images using the VAE decoder. As we will see during inference we **only need the VAE decoder**."
   ]
  },
  {
   "cell_type": "markdown",
   "metadata": {
    "id": "Jr5ZCb66kmyE"
   },
   "source": [
    "**2. The U-Net**\n",
    "\n",
    "The U-Net has an encoder part and a decoder part both comprised of ResNet blocks.\n",
    "The encoder compresses an image representation into a lower resolution image representation and the decoder decodes the lower resolution image representation back to the original higher resolution image representation that is supposedly less noisy.\n",
    "More specifically, the U-Net output predicts the noise residual which can be used to compute the predicted denoised image representation.\n",
    "\n",
    "To prevent the U-Net from losing important information while downsampling, short-cut connections are usually added between the downsampling ResNets of the encoder to the upsampling ResNets of the decoder.\n",
    "Additionally, the stable diffusion U-Net is able to condition its output on text-embeddings via cross-attention layers. The cross-attention layers are added to both the encoder and decoder part of the U-Net usually between ResNet blocks."
   ]
  },
  {
   "cell_type": "markdown",
   "metadata": {
    "id": "YE7hhg5ArUu4"
   },
   "source": [
    "**3. The Text-encoder**\n",
    "\n",
    "The text-encoder is responsible for transforming the input prompt, *e.g.* \"An astronout riding a horse\" into an embedding space that can be understood by the U-Net. It is usually a simple *transformer-based* encoder that maps a sequence of input tokens to a sequence of latent text-embeddings.\n",
    "\n",
    "Inspired by [Imagen](https://imagen.research.google/), Stable Diffusion does **not** train the text-encoder during training and simply uses an CLIP's already trained text encoder, [CLIPTextModel](https://huggingface.co/docs/transformers/model_doc/clip#transformers.CLIPTextModel)."
   ]
  },
  {
   "cell_type": "markdown",
   "metadata": {
    "id": "2-XnKTVfj2Jm"
   },
   "source": [
    "**Why is latent diffusion fast and efficient?**\n",
    "\n",
    "Since the U-Net of latent diffusion models operates on a low dimensional space, it greatly reduces the memory and compute requirements compared to pixel-space diffusion models. For example, the autoencoder used in Stable Diffusion has a reduction factor of 8. This means that an image of shape `(3, 512, 512)` becomes `(3, 64, 64)` in latent space, which requires `8 × 8 = 64` times less memory.\n",
    "\n",
    "This is why it's possible to generate `512 × 512` images so quickly, even on 16GB Colab GPUs!"
   ]
  },
  {
   "cell_type": "markdown",
   "metadata": {
    "id": "Zz5Ge_47jUaA"
   },
   "source": [
    "**Stable Diffusion during inference**\n",
    "\n",
    "Putting it all together, let's now take a closer look at how the model works in inference by illustrating the logical flow.\n"
   ]
  },
  {
   "cell_type": "markdown",
   "metadata": {
    "id": "cUBqX1sMsDR6"
   },
   "source": [
    "<p align=\"left\">\n",
    "<img src=\"https://raw.githubusercontent.com/patrickvonplaten/scientific_images/master/stable_diffusion.png\" alt=\"sd-pipeline\" width=\"500\"/>\n",
    "</p>\n",
    "\n",
    "The stable diffusion model takes both a latent seed and a text prompt as an input. The latent seed is then used to generate random latent image representations of size $64 \\times 64$ where as the text prompt is transformed to text embeddings of size $77 \\times 768$ via CLIP's text encoder.\n",
    "\n",
    "Next the U-Net iteratively *denoises* the random latent image representations while being conditioned on the text embeddings. The output of the U-Net, being the noise residual, is used to compute a denoised latent image representation via a scheduler algorithm. Many different scheduler algorithms can be used for this computation, each having its pros and cons. For Stable Diffusion, we recommend using one of:\n",
    "\n",
    "- [PNDM scheduler](https://github.com/huggingface/diffusers/blob/main/src/diffusers/schedulers/scheduling_pndm.py) (used by default).\n",
    "- [K-LMS scheduler](https://github.com/huggingface/diffusers/blob/main/src/diffusers/schedulers/scheduling_lms_discrete.py).\n",
    "- [Heun Discrete scheduler](https://github.com/huggingface/diffusers/blob/main/src/diffusers/schedulers/scheduling_heun_discrete.py).\n",
    "- [DPM Solver Multistep scheduler](https://github.com/huggingface/diffusers/blob/main/src/diffusers/schedulers/scheduling_dpmsolver_multistep.py). This scheduler is able to achieve great quality in less steps. You can try with 25 instead of the default 50!\n",
    "\n",
    "Theory on how the scheduler algorithm function is out of scope for this notebook, but in short one should remember that they compute the predicted denoised image representation from the previous noise representation and the predicted noise residual.\n",
    "For more information, we recommend looking into [Elucidating the Design Space of Diffusion-Based Generative Models](https://arxiv.org/abs/2206.00364)\n",
    "\n",
    "The *denoising* process is repeated *ca.* 50 times to step-by-step retrieve better latent image representations.\n",
    "Once complete, the latent image representation is decoded by the decoder part of the variational auto encoder."
   ]
  },
  {
   "cell_type": "markdown",
   "metadata": {
    "id": "2rR2Udg5IYjn"
   },
   "source": [
    "\n",
    "\n",
    "After this brief introduction to Latent and Stable Diffusion, let's see how to make advanced use of 🤗 Hugging Face Diffusers!"
   ]
  }
 ],
 "metadata": {
  "accelerator": "GPU",
  "colab": {
   "collapsed_sections": [
    "yW14FA-tDQ5n",
    "UZp-ynZLrS-S"
   ],
   "provenance": [
    {
     "file_id": "https://github.com/huggingface/notebooks/blob/main/diffusers/stable_diffusion.ipynb",
     "timestamp": 1683897274272
    }
   ]
  },
  "gpuClass": "standard",
  "kernelspec": {
   "display_name": "Python 3 (ipykernel)",
   "language": "python",
   "name": "python3"
  },
  "language_info": {
   "codemirror_mode": {
    "name": "ipython",
    "version": 3
   },
   "file_extension": ".py",
   "mimetype": "text/x-python",
   "name": "python",
   "nbconvert_exporter": "python",
   "pygments_lexer": "ipython3",
   "version": "3.9.12"
  },
  "toc": {
   "base_numbering": 1,
   "nav_menu": {},
   "number_sections": true,
   "sideBar": true,
   "skip_h1_title": false,
   "title_cell": "Table of Contents",
   "title_sidebar": "Contents",
   "toc_cell": false,
   "toc_position": {},
   "toc_section_display": true,
   "toc_window_display": false
  }
 },
 "nbformat": 4,
 "nbformat_minor": 0
}
